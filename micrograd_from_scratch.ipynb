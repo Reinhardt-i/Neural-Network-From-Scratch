{
 "cells": [
  {
   "cell_type": "code",
   "execution_count": 68,
   "metadata": {},
   "outputs": [],
   "source": [
    "import math\n",
    "import numpy as np\n",
    "import matplotlib.pyplot as plt\n",
    "%matplotlib inline"
   ]
  },
  {
   "cell_type": "code",
   "execution_count": 69,
   "metadata": {},
   "outputs": [
    {
     "data": {
      "text/plain": [
       "[<matplotlib.lines.Line2D at 0x21693bbb610>]"
      ]
     },
     "execution_count": 69,
     "metadata": {},
     "output_type": "execute_result"
    },
    {
     "data": {
      "image/png": "[encoded data removed]",
      "text/plain": [
       "<Figure size 640x480 with 1 Axes>"
      ]
     },
     "metadata": {},
     "output_type": "display_data"
    }
   ],
   "source": [
    "def f(x):\n",
    "    return 3*x**2 - 4*x + 5\n",
    "\n",
    "xs = np.arange(-5, 5, 0.25)\n",
    "ys = f(xs)\n",
    "plt.plot(xs, ys)"
   ]
  },
  {
   "cell_type": "code",
   "execution_count": 70,
   "metadata": {},
   "outputs": [
    {
     "data": {
      "text/plain": [
       "3.0000002482211127e-05"
      ]
     },
     "execution_count": 70,
     "metadata": {},
     "output_type": "execute_result"
    }
   ],
   "source": [
    "# Numerical Derivation of f(x)\n",
    "h = 0.00001\n",
    "x = 2/3\n",
    "slope = (f(x + h) - f(x)) / h\n",
    "slope"
   ]
  },
  {
   "cell_type": "code",
   "execution_count": 71,
   "metadata": {},
   "outputs": [
    {
     "name": "stdout",
     "output_type": "stream",
     "text": [
      "d1 : 4.0\n",
      "d2 : 3.9999699999999994\n",
      "slope = -3.000000000064062\n"
     ]
    }
   ],
   "source": [
    "h = 0.00001\n",
    "\n",
    "# inputs\n",
    "a = 2.0\n",
    "b = -3.0\n",
    "c = 10\n",
    "\n",
    "def d(a, b, c):\n",
    "    return a * b + c\n",
    "\n",
    "d1 = d(a, b, c)\n",
    "a += h  # nudge a\n",
    "d2 = d(a, b, c)\n",
    "\n",
    "print(f\"d1 : {d1}\\nd2 : {d2}\")\n",
    "print(f\"slope = {(d2 - d1) / h}\")  # Same ans as geometric formula!"
   ]
  },
  {
   "cell_type": "code",
   "execution_count": 72,
   "metadata": {},
   "outputs": [],
   "source": [
    "class Value:\n",
    "    \n",
    "    def __init__(self, data, _children=(), _op='', label='') -> None:\n",
    "        self.data = data\n",
    "        self.grad = 0.0\n",
    "        self._prev = set(_children)\n",
    "        self._op = _op\n",
    "        self.label = label\n",
    "    \n",
    "    def __repr__(self) -> str:\n",
    "        return f\"Value(data = {self.data})\"\n",
    "    \n",
    "    def __add__(self, other) -> object:\n",
    "        out = Value(self.data + other.data, (self, other), '+')\n",
    "        return out\n",
    "    \n",
    "    def __mul__(self, other) -> object:\n",
    "        out = Value(self.data * other.data, (self, other), '*')\n",
    "        return out"
   ]
  },
  {
   "cell_type": "code",
   "execution_count": 73,
   "metadata": {},
   "outputs": [
    {
     "data": {
      "text/plain": [
       "Value(data = -8.0)"
      ]
     },
     "execution_count": 73,
     "metadata": {},
     "output_type": "execute_result"
    }
   ],
   "source": [
    "a = Value(2.0, label=\"a\")\n",
    "b = Value(-3.0, label=\"b\")\n",
    "c = Value(10.0, label=\"c\")\n",
    "\n",
    "e = a * b ; e.label = \"e\"\n",
    "\n",
    "d = e + c; d.label = \"d\"\n",
    "\n",
    "f = Value(-2.0, label=\"f\")\n",
    "\n",
    "L = d * f; L.label = \"L\"\n",
    "\n",
    "L"
   ]
  },
  {
   "cell_type": "code",
   "execution_count": 74,
   "metadata": {},
   "outputs": [],
   "source": [
    "from graphviz import Digraph\n",
    "\n",
    "def trace(root):\n",
    "    \"\"\"\n",
    "        Builds a set of all nodes and edges in a graph\n",
    "    \"\"\"    \n",
    "    \n",
    "    nodes, edges = set(), set()\n",
    "    def build(v):\n",
    "        if v not in nodes:\n",
    "            nodes.add(v)\n",
    "            for child in v._prev:\n",
    "                edges.add((child, v))\n",
    "                build(child)\n",
    "    build(root)\n",
    "    return nodes, edges\n",
    "\n",
    "def draw_dot(root):\n",
    "    nodes, edges = trace(root)\n",
    "    dot = Digraph(format='svg', graph_attr={'rankdir': 'LR'}) # LR : Left to Right\n",
    "    \n",
    "    for n in nodes:\n",
    "        # For any value in the graph, create a rectangular ('record') node for it.\n",
    "        dot.node(name=str(id(n)), label = \"{ %s | data %.4f | grad %.4f }\" % (n.label, n.data, n.grad), shape='record')\n",
    "        if n._op:\n",
    "            # If this value is a result of some operation, create an op node for it.\n",
    "            dot.node(name=str(id(n)) + n._op, label = n._op)\n",
    "            # andd connect this node to it.\n",
    "            dot.edge(str(id(n)) + n._op, str(id(n)))\n",
    "    \n",
    "    for n1, n2 in edges:\n",
    "        # Connect n1 to the op node of n2\n",
    "        dot.edge(str(id(n1)), str(id(n2)) + n2._op)\n",
    "    \n",
    "    return dot"
   ]
  },
  {
   "cell_type": "code",
   "execution_count": 75,
   "metadata": {},
   "outputs": [
    {
     "data": {
      "image/svg+xml": "<?xml version=\"1.0\" encoding=\"UTF-8\" standalone=\"no\"?>\n<!DOCTYPE svg PUBLIC \"-//W3C//DTD SVG 1.1//EN\"\n \"http://www.w3.org/Graphics/SVG/1.1/DTD/svg11.dtd\">\n<!-- Generated by graphviz version 7.1.0 (20230121.1956)\n -->\n<!-- Pages: 1 -->\n<svg width=\"1157pt\" height=\"154pt\"\n viewBox=\"0.00 0.00 1157.00 154.00\" xmlns=\"http://www.w3.org/2000/svg\" xmlns:xlink=\"http://www.w3.org/1999/xlink\">\n<g id=\"graph0\" class=\"graph\" transform=\"scale(1 1) rotate(0) translate(4 150)\">\n<polygon fill=\"white\" stroke=\"none\" points=\"-4,4 -4,-150 1153,-150 1153,4 -4,4\"/>\n<!-- 2295989589648 -->\n<g id=\"node1\" class=\"node\">\n<title>2295989589648</title>\n<polygon fill=\"none\" stroke=\"black\" points=\"320,-27.5 320,-63.5 512,-63.5 512,-27.5 320,-27.5\"/>\n<text text-anchor=\"middle\" x=\"331.5\" y=\"-41.8\" font-family=\"Times New Roman,serif\" font-size=\"14.00\">e</text>\n<polyline fill=\"none\" stroke=\"black\" points=\"343,-27.5 343,-63.5\"/>\n<text text-anchor=\"middle\" x=\"386\" y=\"-41.8\" font-family=\"Times New Roman,serif\" font-size=\"14.00\">data &#45;6.0000</text>\n<polyline fill=\"none\" stroke=\"black\" points=\"429,-27.5 429,-63.5\"/>\n<text text-anchor=\"middle\" x=\"470.5\" y=\"-41.8\" font-family=\"Times New Roman,serif\" font-size=\"14.00\">grad 0.0000</text>\n</g>\n<!-- 2295990495568+ -->\n<g id=\"node6\" class=\"node\">\n<title>2295990495568+</title>\n<ellipse fill=\"none\" stroke=\"black\" cx=\"576\" cy=\"-72.5\" rx=\"27\" ry=\"18\"/>\n<text text-anchor=\"middle\" x=\"576\" y=\"-68.8\" font-family=\"Times New Roman,serif\" font-size=\"14.00\">+</text>\n</g>\n<!-- 2295989589648&#45;&gt;2295990495568+ -->\n<g id=\"edge4\" class=\"edge\">\n<title>2295989589648&#45;&gt;2295990495568+</title>\n<path fill=\"none\" stroke=\"black\" d=\"M511.65,-61.67C521.01,-63.27 530.06,-64.82 538.26,-66.22\"/>\n<polygon fill=\"black\" stroke=\"black\" points=\"537.65,-69.67 548.1,-67.9 538.83,-62.77 537.65,-69.67\"/>\n</g>\n<!-- 2295989589648* -->\n<g id=\"node2\" class=\"node\">\n<title>2295989589648*</title>\n<ellipse fill=\"none\" stroke=\"black\" cx=\"256\" cy=\"-45.5\" rx=\"27\" ry=\"18\"/>\n<text text-anchor=\"middle\" x=\"256\" y=\"-41.8\" font-family=\"Times New Roman,serif\" font-size=\"14.00\">*</text>\n</g>\n<!-- 2295989589648*&#45;&gt;2295989589648 -->\n<g id=\"edge1\" class=\"edge\">\n<title>2295989589648*&#45;&gt;2295989589648</title>\n<path fill=\"none\" stroke=\"black\" d=\"M283.45,-45.5C290.94,-45.5 299.59,-45.5 308.8,-45.5\"/>\n<polygon fill=\"black\" stroke=\"black\" points=\"308.76,-49 318.76,-45.5 308.76,-42 308.76,-49\"/>\n</g>\n<!-- 2295991205520 -->\n<g id=\"node3\" class=\"node\">\n<title>2295991205520</title>\n<polygon fill=\"none\" stroke=\"black\" points=\"3,-55.5 3,-91.5 190,-91.5 190,-55.5 3,-55.5\"/>\n<text text-anchor=\"middle\" x=\"14.5\" y=\"-69.8\" font-family=\"Times New Roman,serif\" font-size=\"14.00\">a</text>\n<polyline fill=\"none\" stroke=\"black\" points=\"26,-55.5 26,-91.5\"/>\n<text text-anchor=\"middle\" x=\"66.5\" y=\"-69.8\" font-family=\"Times New Roman,serif\" font-size=\"14.00\">data 2.0000</text>\n<polyline fill=\"none\" stroke=\"black\" points=\"107,-55.5 107,-91.5\"/>\n<text text-anchor=\"middle\" x=\"148.5\" y=\"-69.8\" font-family=\"Times New Roman,serif\" font-size=\"14.00\">grad 0.0000</text>\n</g>\n<!-- 2295991205520&#45;&gt;2295989589648* -->\n<g id=\"edge9\" class=\"edge\">\n<title>2295991205520&#45;&gt;2295989589648*</title>\n<path fill=\"none\" stroke=\"black\" d=\"M189.57,-57.13C199.66,-55.34 209.45,-53.6 218.25,-52.03\"/>\n<polygon fill=\"black\" stroke=\"black\" points=\"218.85,-55.48 228.08,-50.29 217.62,-48.59 218.85,-55.48\"/>\n</g>\n<!-- 2295931696848 -->\n<g id=\"node4\" class=\"node\">\n<title>2295931696848</title>\n<polygon fill=\"none\" stroke=\"black\" points=\"0,-0.5 0,-36.5 193,-36.5 193,-0.5 0,-0.5\"/>\n<text text-anchor=\"middle\" x=\"12\" y=\"-14.8\" font-family=\"Times New Roman,serif\" font-size=\"14.00\">b</text>\n<polyline fill=\"none\" stroke=\"black\" points=\"24,-0.5 24,-36.5\"/>\n<text text-anchor=\"middle\" x=\"67\" y=\"-14.8\" font-family=\"Times New Roman,serif\" font-size=\"14.00\">data &#45;3.0000</text>\n<polyline fill=\"none\" stroke=\"black\" points=\"110,-0.5 110,-36.5\"/>\n<text text-anchor=\"middle\" x=\"151.5\" y=\"-14.8\" font-family=\"Times New Roman,serif\" font-size=\"14.00\">grad 0.0000</text>\n</g>\n<!-- 2295931696848&#45;&gt;2295989589648* -->\n<g id=\"edge7\" class=\"edge\">\n<title>2295931696848&#45;&gt;2295989589648*</title>\n<path fill=\"none\" stroke=\"black\" d=\"M192.75,-34.83C201.7,-36.36 210.35,-37.85 218.21,-39.19\"/>\n<polygon fill=\"black\" stroke=\"black\" points=\"217.54,-42.63 227.98,-40.87 218.72,-35.73 217.54,-42.63\"/>\n</g>\n<!-- 2295990495568 -->\n<g id=\"node5\" class=\"node\">\n<title>2295990495568</title>\n<polygon fill=\"none\" stroke=\"black\" points=\"640,-54.5 640,-90.5 828,-90.5 828,-54.5 640,-54.5\"/>\n<text text-anchor=\"middle\" x=\"652\" y=\"-68.8\" font-family=\"Times New Roman,serif\" font-size=\"14.00\">d</text>\n<polyline fill=\"none\" stroke=\"black\" points=\"664,-54.5 664,-90.5\"/>\n<text text-anchor=\"middle\" x=\"704.5\" y=\"-68.8\" font-family=\"Times New Roman,serif\" font-size=\"14.00\">data 4.0000</text>\n<polyline fill=\"none\" stroke=\"black\" points=\"745,-54.5 745,-90.5\"/>\n<text text-anchor=\"middle\" x=\"786.5\" y=\"-68.8\" font-family=\"Times New Roman,serif\" font-size=\"14.00\">grad 0.0000</text>\n</g>\n<!-- 2295989485968* -->\n<g id=\"node9\" class=\"node\">\n<title>2295989485968*</title>\n<ellipse fill=\"none\" stroke=\"black\" cx=\"892\" cy=\"-99.5\" rx=\"27\" ry=\"18\"/>\n<text text-anchor=\"middle\" x=\"892\" y=\"-95.8\" font-family=\"Times New Roman,serif\" font-size=\"14.00\">*</text>\n</g>\n<!-- 2295990495568&#45;&gt;2295989485968* -->\n<g id=\"edge6\" class=\"edge\">\n<title>2295990495568&#45;&gt;2295989485968*</title>\n<path fill=\"none\" stroke=\"black\" d=\"M828,-88.6C837.2,-90.19 846.12,-91.73 854.21,-93.13\"/>\n<polygon fill=\"black\" stroke=\"black\" points=\"853.46,-96.55 863.91,-94.81 854.65,-89.66 853.46,-96.55\"/>\n</g>\n<!-- 2295990495568+&#45;&gt;2295990495568 -->\n<g id=\"edge2\" class=\"edge\">\n<title>2295990495568+&#45;&gt;2295990495568</title>\n<path fill=\"none\" stroke=\"black\" d=\"M603.46,-72.5C610.94,-72.5 619.56,-72.5 628.73,-72.5\"/>\n<polygon fill=\"black\" stroke=\"black\" points=\"628.64,-76 638.64,-72.5 628.64,-69 628.64,-76\"/>\n</g>\n<!-- 2295989103440 -->\n<g id=\"node7\" class=\"node\">\n<title>2295989103440</title>\n<polygon fill=\"none\" stroke=\"black\" points=\"639,-109.5 639,-145.5 829,-145.5 829,-109.5 639,-109.5\"/>\n<text text-anchor=\"middle\" x=\"649.5\" y=\"-123.8\" font-family=\"Times New Roman,serif\" font-size=\"14.00\">f</text>\n<polyline fill=\"none\" stroke=\"black\" points=\"660,-109.5 660,-145.5\"/>\n<text text-anchor=\"middle\" x=\"703\" y=\"-123.8\" font-family=\"Times New Roman,serif\" font-size=\"14.00\">data &#45;2.0000</text>\n<polyline fill=\"none\" stroke=\"black\" points=\"746,-109.5 746,-145.5\"/>\n<text text-anchor=\"middle\" x=\"787.5\" y=\"-123.8\" font-family=\"Times New Roman,serif\" font-size=\"14.00\">grad 0.0000</text>\n</g>\n<!-- 2295989103440&#45;&gt;2295989485968* -->\n<g id=\"edge5\" class=\"edge\">\n<title>2295989103440&#45;&gt;2295989485968*</title>\n<path fill=\"none\" stroke=\"black\" d=\"M828.9,-110.65C837.81,-109.05 846.43,-107.5 854.28,-106.09\"/>\n<polygon fill=\"black\" stroke=\"black\" points=\"854.8,-109.55 864.02,-104.34 853.56,-102.66 854.8,-109.55\"/>\n</g>\n<!-- 2295989485968 -->\n<g id=\"node8\" class=\"node\">\n<title>2295989485968</title>\n<polygon fill=\"none\" stroke=\"black\" points=\"955,-81.5 955,-117.5 1149,-117.5 1149,-81.5 955,-81.5\"/>\n<text text-anchor=\"middle\" x=\"967.5\" y=\"-95.8\" font-family=\"Times New Roman,serif\" font-size=\"14.00\">L</text>\n<polyline fill=\"none\" stroke=\"black\" points=\"980,-81.5 980,-117.5\"/>\n<text text-anchor=\"middle\" x=\"1023\" y=\"-95.8\" font-family=\"Times New Roman,serif\" font-size=\"14.00\">data &#45;8.0000</text>\n<polyline fill=\"none\" stroke=\"black\" points=\"1066,-81.5 1066,-117.5\"/>\n<text text-anchor=\"middle\" x=\"1107.5\" y=\"-95.8\" font-family=\"Times New Roman,serif\" font-size=\"14.00\">grad 0.0000</text>\n</g>\n<!-- 2295989485968*&#45;&gt;2295989485968 -->\n<g id=\"edge3\" class=\"edge\">\n<title>2295989485968*&#45;&gt;2295989485968</title>\n<path fill=\"none\" stroke=\"black\" d=\"M919.45,-99.5C926.67,-99.5 934.97,-99.5 943.82,-99.5\"/>\n<polygon fill=\"black\" stroke=\"black\" points=\"943.75,-103 953.75,-99.5 943.75,-96 943.75,-103\"/>\n</g>\n<!-- 2295990315472 -->\n<g id=\"node10\" class=\"node\">\n<title>2295990315472</title>\n<polygon fill=\"none\" stroke=\"black\" points=\"319,-82.5 319,-118.5 513,-118.5 513,-82.5 319,-82.5\"/>\n<text text-anchor=\"middle\" x=\"330.5\" y=\"-96.8\" font-family=\"Times New Roman,serif\" font-size=\"14.00\">c</text>\n<polyline fill=\"none\" stroke=\"black\" points=\"342,-82.5 342,-118.5\"/>\n<text text-anchor=\"middle\" x=\"386\" y=\"-96.8\" font-family=\"Times New Roman,serif\" font-size=\"14.00\">data 10.0000</text>\n<polyline fill=\"none\" stroke=\"black\" points=\"430,-82.5 430,-118.5\"/>\n<text text-anchor=\"middle\" x=\"471.5\" y=\"-96.8\" font-family=\"Times New Roman,serif\" font-size=\"14.00\">grad 0.0000</text>\n</g>\n<!-- 2295990315472&#45;&gt;2295990495568+ -->\n<g id=\"edge8\" class=\"edge\">\n<title>2295990315472&#45;&gt;2295990495568+</title>\n<path fill=\"none\" stroke=\"black\" d=\"M512.55,-83.57C521.53,-81.98 530.21,-80.44 538.1,-79.04\"/>\n<polygon fill=\"black\" stroke=\"black\" points=\"538.67,-82.49 547.9,-77.3 537.45,-75.6 538.67,-82.49\"/>\n</g>\n</g>\n</svg>\n",
      "text/plain": [
       "<graphviz.graphs.Digraph at 0x21693a1e610>"
      ]
     },
     "execution_count": 75,
     "metadata": {},
     "output_type": "execute_result"
    }
   ],
   "source": [
    "draw_dot(L)"
   ]
  },
  {
   "attachments": {},
   "cell_type": "markdown",
   "metadata": {},
   "source": [
    "## Summary:\n",
    "    We're able to build out mathematical expressions, (with + and *), they are scalar valued.\n",
    "    We can to do a forward pass to to build the exp."
   ]
  },
  {
   "cell_type": "markdown",
   "metadata": {},
   "source": []
  },
  {
   "cell_type": "code",
   "execution_count": null,
   "metadata": {},
   "outputs": [],
   "source": []
  }
 ],
 "metadata": {
  "kernelspec": {
   "display_name": ".venv",
   "language": "python",
   "name": "python3"
  },
  "language_info": {
   "codemirror_mode": {
    "name": "ipython",
    "version": 3
   },
   "file_extension": ".py",
   "mimetype": "text/x-python",
   "name": "python",
   "nbconvert_exporter": "python",
   "pygments_lexer": "ipython3",
   "version": "3.11.1"
  },
  "orig_nbformat": 4
 },
 "nbformat": 4,
 "nbformat_minor": 2
}
